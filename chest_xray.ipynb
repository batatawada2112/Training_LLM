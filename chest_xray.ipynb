{
  "cells": [
    {
      "cell_type": "code",
      "execution_count": null,
      "metadata": {
        "id": "IlB-eax20bsk",
        "colab": {
          "base_uri": "https://localhost:8080/",
          "height": 383
        },
        "outputId": "dbd1fac6-a042-42ec-cc23-121a46f3f1bf"
      },
      "outputs": [
        {
          "output_type": "error",
          "ename": "ModuleNotFoundError",
          "evalue": "No module named 'trl'",
          "traceback": [
            "\u001b[0;31m---------------------------------------------------------------------------\u001b[0m",
            "\u001b[0;31mModuleNotFoundError\u001b[0m                       Traceback (most recent call last)",
            "\u001b[0;32m/tmp/ipython-input-1-1499512662.py\u001b[0m in \u001b[0;36m<cell line: 0>\u001b[0;34m()\u001b[0m\n\u001b[1;32m     37\u001b[0m )\n\u001b[1;32m     38\u001b[0m \u001b[0;32mfrom\u001b[0m \u001b[0mpeft\u001b[0m \u001b[0;32mimport\u001b[0m \u001b[0mLoraConfig\u001b[0m\u001b[0;34m,\u001b[0m \u001b[0mget_peft_model\u001b[0m\u001b[0;34m,\u001b[0m \u001b[0mprepare_model_for_kbit_training\u001b[0m\u001b[0;34m\u001b[0m\u001b[0;34m\u001b[0m\u001b[0m\n\u001b[0;32m---> 39\u001b[0;31m \u001b[0;32mfrom\u001b[0m \u001b[0mtrl\u001b[0m \u001b[0;32mimport\u001b[0m \u001b[0mSFTTrainer\u001b[0m\u001b[0;34m\u001b[0m\u001b[0;34m\u001b[0m\u001b[0m\n\u001b[0m\u001b[1;32m     40\u001b[0m \u001b[0;32mfrom\u001b[0m \u001b[0msklearn\u001b[0m\u001b[0;34m.\u001b[0m\u001b[0mmetrics\u001b[0m \u001b[0;32mimport\u001b[0m \u001b[0maccuracy_score\u001b[0m\u001b[0;34m,\u001b[0m \u001b[0mf1_score\u001b[0m\u001b[0;34m,\u001b[0m \u001b[0mprecision_recall_fscore_support\u001b[0m\u001b[0;34m\u001b[0m\u001b[0;34m\u001b[0m\u001b[0m\n\u001b[1;32m     41\u001b[0m \u001b[0;32mfrom\u001b[0m \u001b[0msklearn\u001b[0m\u001b[0;34m.\u001b[0m\u001b[0mmodel_selection\u001b[0m \u001b[0;32mimport\u001b[0m \u001b[0mtrain_test_split\u001b[0m\u001b[0;34m\u001b[0m\u001b[0;34m\u001b[0m\u001b[0m\n",
            "\u001b[0;31mModuleNotFoundError\u001b[0m: No module named 'trl'",
            "",
            "\u001b[0;31m---------------------------------------------------------------------------\u001b[0;32m\nNOTE: If your import is failing due to a missing package, you can\nmanually install dependencies using either !pip or !apt.\n\nTo view examples of installing some common dependencies, click the\n\"Open Examples\" button below.\n\u001b[0;31m---------------------------------------------------------------------------\u001b[0m\n"
          ],
          "errorDetails": {
            "actions": [
              {
                "action": "open_url",
                "actionText": "Open Examples",
                "url": "/notebooks/snippets/importing_libraries.ipynb"
              }
            ]
          }
        }
      ],
      "source": [
        "import subprocess\n",
        "import sys\n",
        "import os\n",
        "import torch\n",
        "import json\n",
        "import pandas as pd\n",
        "import numpy as np\n",
        "from PIL import Image\n",
        "import matplotlib.pyplot as plt\n",
        "import seaborn as sns\n",
        "from typing import Dict, List, Tuple, Optional, Union\n",
        "import requests\n",
        "from io import BytesIO\n",
        "import base64\n",
        "import gc\n",
        "import warnings\n",
        "import cv2\n",
        "from pathlib import Path\n",
        "import random\n",
        "from datetime import datetime\n",
        "warnings.filterwarnings('ignore')\n",
        "\n",
        "# Core ML libraries\n",
        "from datasets import Dataset, load_dataset, DatasetDict\n",
        "from transformers import (\n",
        "    AutoModelForCausalLM,\n",
        "    AutoTokenizer,\n",
        "    BitsAndBytesConfig,\n",
        "    TrainingArguments,\n",
        "    pipeline,\n",
        "    logging,\n",
        "    LlavaForConditionalGeneration,\n",
        "    LlavaProcessor,\n",
        "    AutoProcessor,\n",
        "    Trainer,\n",
        "    DataCollatorForLanguageModeling\n",
        ")\n",
        "from peft import LoraConfig, get_peft_model, prepare_model_for_kbit_training\n",
        "from trl import SFTTrainer\n",
        "from sklearn.metrics import accuracy_score, f1_score, precision_recall_fscore_support\n",
        "from sklearn.model_selection import train_test_split\n"
      ]
    },
    {
      "cell_type": "code",
      "execution_count": null,
      "metadata": {
        "colab": {
          "background_save": true
        },
        "id": "8p-3udqFaYL7"
      },
      "outputs": [],
      "source": [
        "print(\"\\nConfiguration Setup...\")\n",
        "\n",
        "# Model and dataset configuration\n",
        "model_name = \"llava-hf/llava-1.5-7b-hf\"\n",
        "dataset_name = \"medical-vision-papers\"\n",
        "new_model = \"Llava-Medical-Analyst-7b\"\n",
        "\n",
        "# LoRA configuration\n",
        "lora_r = 64\n",
        "lora_alpha = 16\n",
        "lora_dropout = 0.1\n",
        "\n",
        "# Vision-specific LoRA targets\n",
        "vision_lora_targets = [\n",
        "    \"q_proj\", \"v_proj\", \"k_proj\", \"o_proj\",\n",
        "    \"gate_proj\", \"up_proj\", \"down_proj\",\n",
        "    \"multi_modal_projector\"\n",
        "]\n",
        "\n",
        "# Quantization configuration\n",
        "use_4bit = True\n",
        "bnb_4bit_compute_dtype = \"float16\"\n",
        "bnb_4bit_quant_type = \"nf4\"\n",
        "use_nested_quant = False\n",
        "\n",
        "# Training configuration\n",
        "output_dir = \"./medical_vision_results\"\n",
        "num_train_epochs = 3\n",
        "per_device_train_batch_size = 1\n",
        "gradient_accumulation_steps = 4\n",
        "learning_rate = 2e-4\n",
        "weight_decay = 0.001\n",
        "optim = \"paged_adamw_32bit\"\n",
        "lr_scheduler_type = \"cosine\"\n",
        "max_grad_norm = 0.3\n",
        "max_steps = -1\n",
        "warmup_ratio = 0.03\n",
        "group_by_length = True\n",
        "logging_steps = 25\n",
        "fp16 = True\n",
        "bf16 = False\n",
        "gradient_checkpointing = True\n",
        "\n",
        "print(f\"Model: {model_name}\")\n",
        "print(f\"LoRA Config: r={lora_r}, alpha={lora_alpha}, dropout={lora_dropout}\")\n",
        "print(f\"Training: {num_train_epochs} epochs, lr={learning_rate}\")\n",
        "print(\"Configuration complete!\")"
      ]
    },
    {
      "cell_type": "code",
      "execution_count": null,
      "metadata": {
        "colab": {
          "background_save": true,
          "referenced_widgets": [
            "6c474d6bceec4c9987aef8197bff258c",
            "19e59b93c10948b09a1a42c168d4329c",
            "19462f00f3164958a8e32c9e7aa0644e",
            "0304ed97224340f29ec06236cccd1b6b",
            "e5ea3d320ade49dea49c4b856dc5c8a8",
            "14d462d6c67c4806912ca8fb3803fa1f",
            "f5f0ba12e8d04da3921e779bd0dd7ecf",
            "a8d7839d0b4845b097bf28710aa754b1"
          ]
        },
        "id": "8r4rkCm2afLJ",
        "outputId": "31850785-5a41-466d-98f7-9b9446387fc1"
      },
      "outputs": [
        {
          "name": "stdout",
          "output_type": "stream",
          "text": [
            "\n",
            "Creating enhanced balanced dataset...\n",
            "Creating balanced medical dataset...\n",
            "Loading keremberke/chest-xray-classification...\n"
          ]
        },
        {
          "data": {
            "application/vnd.jupyter.widget-view+json": {
              "model_id": "6c474d6bceec4c9987aef8197bff258c",
              "version_major": 2,
              "version_minor": 0
            },
            "text/plain": [
              "README.md: 0.00B [00:00, ?B/s]"
            ]
          },
          "metadata": {},
          "output_type": "display_data"
        },
        {
          "data": {
            "application/vnd.jupyter.widget-view+json": {
              "model_id": "19e59b93c10948b09a1a42c168d4329c",
              "version_major": 2,
              "version_minor": 0
            },
            "text/plain": [
              "chest-xray-classification.py: 0.00B [00:00, ?B/s]"
            ]
          },
          "metadata": {},
          "output_type": "display_data"
        },
        {
          "data": {
            "application/vnd.jupyter.widget-view+json": {
              "model_id": "19462f00f3164958a8e32c9e7aa0644e",
              "version_major": 2,
              "version_minor": 0
            },
            "text/plain": [
              "0000.parquet:   0%|          | 0.00/144M [00:00<?, ?B/s]"
            ]
          },
          "metadata": {},
          "output_type": "display_data"
        },
        {
          "data": {
            "application/vnd.jupyter.widget-view+json": {
              "model_id": "0304ed97224340f29ec06236cccd1b6b",
              "version_major": 2,
              "version_minor": 0
            },
            "text/plain": [
              "0000.parquet:   0%|          | 0.00/41.3M [00:00<?, ?B/s]"
            ]
          },
          "metadata": {},
          "output_type": "display_data"
        },
        {
          "data": {
            "application/vnd.jupyter.widget-view+json": {
              "model_id": "e5ea3d320ade49dea49c4b856dc5c8a8",
              "version_major": 2,
              "version_minor": 0
            },
            "text/plain": [
              "0000.parquet:   0%|          | 0.00/20.7M [00:00<?, ?B/s]"
            ]
          },
          "metadata": {},
          "output_type": "display_data"
        },
        {
          "data": {
            "application/vnd.jupyter.widget-view+json": {
              "model_id": "14d462d6c67c4806912ca8fb3803fa1f",
              "version_major": 2,
              "version_minor": 0
            },
            "text/plain": [
              "Generating train split:   0%|          | 0/4077 [00:00<?, ? examples/s]"
            ]
          },
          "metadata": {},
          "output_type": "display_data"
        },
        {
          "data": {
            "application/vnd.jupyter.widget-view+json": {
              "model_id": "f5f0ba12e8d04da3921e779bd0dd7ecf",
              "version_major": 2,
              "version_minor": 0
            },
            "text/plain": [
              "Generating validation split:   0%|          | 0/1165 [00:00<?, ? examples/s]"
            ]
          },
          "metadata": {},
          "output_type": "display_data"
        },
        {
          "data": {
            "application/vnd.jupyter.widget-view+json": {
              "model_id": "a8d7839d0b4845b097bf28710aa754b1",
              "version_major": 2,
              "version_minor": 0
            },
            "text/plain": [
              "Generating test split:   0%|          | 0/582 [00:00<?, ? examples/s]"
            ]
          },
          "metadata": {},
          "output_type": "display_data"
        },
        {
          "name": "stdout",
          "output_type": "stream",
          "text": [
            "✓ Loaded 1000 samples from keremberke/chest-xray-classification\n",
            "Loading chest-xray-pneumonia...\n",
            "✗ Failed to load chest-xray-pneumonia: Dataset 'chest-xray-pneumonia' doesn't exist on the Hub or cannot be accessed.\n",
            "Loading medical-chest-xray...\n",
            "✗ Failed to load medical-chest-xray: Dataset 'medical-chest-xray' doesn't exist on the Hub or cannot be accessed.\n",
            "✔️ Created 3009 balanced training examples\n",
            "\n",
            "Enhanced Dataset Statistics:\n",
            "Total samples: 3009\n",
            "Conditions distribution:\n",
            "  Atelectasis: 273 samples\n",
            "  COPD changes: 275 samples\n",
            "  Cardiomegaly: 273 samples\n",
            "  Consolidation: 274 samples\n",
            "  Fibrosis: 274 samples\n",
            "  Normal chest X-ray: 273 samples\n",
            "  Pleural effusion: 273 samples\n",
            "  Pneumonia: 272 samples\n",
            "  Pneumothorax: 275 samples\n",
            "  Pulmonary edema: 274 samples\n",
            "  Pulmonary nodule: 273 samples\n"
          ]
        }
      ],
      "source": [
        "from datasets import load_dataset, Dataset\n",
        "import random\n",
        "\n",
        "class ChestXrayDatasetCreator:\n",
        "    def __init__(self):\n",
        "        self.instruction_templates = [\n",
        "            \"Analyze the chest X-ray and provide a clinical interpretation.\",\n",
        "            \"What are the radiological findings in this chest X-ray?\",\n",
        "            \"Interpret this chest X-ray and comment on any abnormalities.\",\n",
        "            \"Provide a diagnosis based on the chest X-ray findings.\",\n",
        "        ]\n",
        "        self.label_map = {\n",
        "            0: \"Normal\",\n",
        "            1: \"Pneumonia\"\n",
        "        }\n",
        "\n",
        "    def create_dataset(self, limit: int = 4000) -> Dataset:\n",
        "        print(\"Creating real medical dataset...\")\n",
        "        print(\"Attempting to load medical datasets from Hugging Face...\")\n",
        "\n",
        "        try:\n",
        "            print(\"Loading keremberke/chest-xray-classification (config=full)...\")\n",
        "            ds = load_dataset(\"keremberke/chest-xray-classification\", \"full\", split=f\"train[:{limit}]\")\n",
        "            print(f\"✓ Loaded {len(ds)} samples from keremberke/chest-xray-classification\")\n",
        "        except Exception as e:\n",
        "            print(f\"✗ Failed to load dataset: {e}\")\n",
        "            return Dataset.from_list([])\n",
        "\n",
        "        formatted_data = []\n",
        "\n",
        "        for i, sample in enumerate(ds):\n",
        "            label = int(sample[\"labels\"])\n",
        "            diagnosis = self.label_map.get(label, \"Unknown condition\")\n",
        "            for instruction in random.sample(self.instruction_templates, k=2):\n",
        "                clinical_history = f\"{random.randint(40, 75)}-year-old patient with respiratory symptoms undergoing chest X-ray.\"\n",
        "                response = f\"\"\"CLINICAL ASSESSMENT:\n",
        "Patient presents with respiratory symptoms.\n",
        "IMAGING FINDINGS:\n",
        "Chest X-ray shows signs suggestive of {diagnosis.lower()}.\n",
        "INTERPRETATION:\n",
        "Findings are consistent with {diagnosis.lower()}.\n",
        "RECOMMENDATIONS:\n",
        "Clinical correlation and further evaluation recommended.\"\"\"\n",
        "                formatted_data.append({\n",
        "                    \"text\": f\"<s>[INST] {instruction}\\n\\nClinical History: {clinical_history}\\nImaging: Chest X-ray image provided [/INST] {response} </s>\",\n",
        "                    \"modality\": \"Chest X-ray\",\n",
        "                    \"condition\": diagnosis,\n",
        "                    \"case_id\": f\"chest_{i:05d}\",\n",
        "                    \"instruction\": instruction\n",
        "                })\n",
        "\n",
        "        print(f\"✔️ Created {len(formatted_data)} training examples\")\n",
        "        return Dataset.from_list(formatted_data)\n",
        "\n",
        "\n",
        "\n"
      ]
    },
    {
      "cell_type": "code",
      "execution_count": null,
      "metadata": {
        "colab": {
          "base_uri": "https://localhost:8080/"
        },
        "id": "yJPFXNZlbZIX",
        "outputId": "30316a76-a53d-4e6d-8d78-b27665d3ca49"
      },
      "outputs": [
        {
          "name": "stdout",
          "output_type": "stream",
          "text": [
            "Creating real medical dataset...\n",
            "Attempting to load medical datasets from Hugging Face...\n",
            "Loading keremberke/chest-xray-classification (config=full)...\n",
            "✓ Loaded 2000 samples from keremberke/chest-xray-classification\n",
            "✔️ Created 4000 training examples\n",
            "\n",
            "Dataset created with 4000 examples\n",
            "Modalities: {'Chest X-ray'}\n",
            "Conditions: {'Pneumonia', 'Normal'}\n"
          ]
        }
      ],
      "source": [
        "# Run the dataset creation\n",
        "creator = ChestXrayDatasetCreator()\n",
        "dataset = creator.create_dataset(limit=2000)\n",
        "\n",
        "# Summary\n",
        "print(f\"\\nDataset created with {len(dataset)} examples\")\n",
        "print(f\"Modalities: {set(dataset['modality'])}\")\n",
        "print(f\"Conditions: {set(dataset['condition'])}\")"
      ]
    },
    {
      "cell_type": "code",
      "execution_count": null,
      "metadata": {
        "colab": {
          "base_uri": "https://localhost:8080/"
        },
        "id": "Cz86jZcSlLj6",
        "outputId": "cb4c1baf-65fe-4b68-cfbd-1cc45cb54896"
      },
      "outputs": [
        {
          "name": "stdout",
          "output_type": "stream",
          "text": [
            "Training samples: 1000\n",
            "Evaluation samples: 200\n",
            "Added 13 medical-specific tokens\n"
          ]
        }
      ],
      "source": [
        "train_data, eval_data = train_test_split(\n",
        "    list(dataset),\n",
        "    test_size=0.2,\n",
        "    random_state=42,\n",
        "    stratify=[item['condition'] for item in dataset]\n",
        ")\n",
        "\n",
        "train_dataset = Dataset.from_list(train_data).shuffle(seed=42).select(range(1000))\n",
        "eval_dataset = Dataset.from_list(eval_data).shuffle(seed=42).select(range(200))\n",
        "\n",
        "print(f\"Training samples: {len(train_dataset)}\")\n",
        "print(f\"Evaluation samples: {len(eval_dataset)}\")\n",
        "\n",
        "model_name = \"llava-hf/llava-1.5-7b-hf\"  # replace with your model path\n",
        "tokenizer = AutoTokenizer.from_pretrained(model_name, trust_remote_code=True)\n",
        "tokenizer.pad_token = tokenizer.eos_token\n",
        "tokenizer.padding_side = \"right\"\n",
        "\n",
        "medical_tokens = [\n",
        "    \"<MEDICAL_IMAGE>\", \"</MEDICAL_IMAGE>\",\n",
        "    \"<CLINICAL_HISTORY>\", \"</CLINICAL_HISTORY>\",\n",
        "    \"<IMAGING_FINDINGS>\", \"</IMAGING_FINDINGS>\",\n",
        "    \"<DIAGNOSIS>\", \"</DIAGNOSIS>\",\n",
        "    \"<TREATMENT>\", \"</TREATMENT>\",\n",
        "    \"<NORMAL>\", \"<ABNORMAL>\", \"<URGENT>\"\n",
        "]\n",
        "tokenizer.add_tokens(medical_tokens)\n",
        "print(f\"Added {len(medical_tokens)} medical-specific tokens\")"
      ]
    },
    {
      "cell_type": "code",
      "execution_count": null,
      "metadata": {
        "colab": {
          "base_uri": "https://localhost:8080/",
          "height": 116,
          "referenced_widgets": [
            "4c40b387bf394baa8008438584585e13",
            "5f27daf9b4d64f95bf905e8c25b2261e",
            "adab870013774bcd92fbb7be51f681b2",
            "d323cc9a95ae4a618bd3751bf611e458",
            "6a5783569b3d48c390b16e2487338c56",
            "d3c91db3a3894654ad77a36c38cff542",
            "d480648343c2433f9ad31085a387b27a",
            "7ee732c23b5544ff9ce9e2ab49a2c7d1",
            "6b00f7cff05449d8b240b5dfb49bbaea",
            "d81eb442f64b47478ec77b8071932b9b",
            "02e9af8330294530bc8276dfad75944e",
            "06bebb65f1234426916855398002d052",
            "29d3ae69c0584276a5d2bf9877adf320",
            "50806adfb9424513af653695eb77ef88",
            "99b5dcc97be447429a85f3987119db20",
            "4b5b4c9b71cc4ebea12d4eb2ae8b2199",
            "688a8ac544324a79a87f93013d81885b",
            "6f5d0072e6f94f3cb50961bef51e682a",
            "e9821ef6528a49e2a44d6dab54083860",
            "c5017051f35c453e82a9416c20fd6473",
            "1400b70b01374129a533a397eec847ea",
            "e3bb7c286b574d8da8e8d826c3545711"
          ]
        },
        "id": "3Os1vVTmmNSH",
        "outputId": "ad6446b5-e0a3-4e30-cbff-ed22b8ab78db"
      },
      "outputs": [
        {
          "name": "stdout",
          "output_type": "stream",
          "text": [
            "Tokenizing datasets...\n"
          ]
        },
        {
          "data": {
            "application/vnd.jupyter.widget-view+json": {
              "model_id": "4c40b387bf394baa8008438584585e13",
              "version_major": 2,
              "version_minor": 0
            },
            "text/plain": [
              "Map:   0%|          | 0/1000 [00:00<?, ? examples/s]"
            ]
          },
          "metadata": {},
          "output_type": "display_data"
        },
        {
          "data": {
            "application/vnd.jupyter.widget-view+json": {
              "model_id": "06bebb65f1234426916855398002d052",
              "version_major": 2,
              "version_minor": 0
            },
            "text/plain": [
              "Map:   0%|          | 0/200 [00:00<?, ? examples/s]"
            ]
          },
          "metadata": {},
          "output_type": "display_data"
        },
        {
          "name": "stdout",
          "output_type": "stream",
          "text": [
            "Dataset tokenization complete!\n"
          ]
        }
      ],
      "source": [
        "def tokenize_medical_data(examples):\n",
        "    texts = examples[\"text\"]\n",
        "    tokenized = tokenizer(\n",
        "        texts,\n",
        "        truncation=True,\n",
        "        padding=\"max_length\",\n",
        "        max_length=256  # reduced to save memory\n",
        "    )\n",
        "    tokenized[\"labels\"] = tokenized[\"input_ids\"]\n",
        "    return tokenized\n",
        "\n",
        "# ✅ Tokenize datasets\n",
        "print(\"Tokenizing datasets...\")\n",
        "tokenized_train = train_dataset.map(tokenize_medical_data, batched=True, remove_columns=train_dataset.column_names)\n",
        "tokenized_eval = eval_dataset.map(tokenize_medical_data, batched=True, remove_columns=eval_dataset.column_names)\n",
        "print(\"Dataset tokenization complete!\")"
      ]
    },
    {
      "cell_type": "code",
      "execution_count": null,
      "metadata": {
        "colab": {
          "base_uri": "https://localhost:8080/",
          "height": 66,
          "referenced_widgets": [
            "7a448459a1e84a26aa6515d13a481109",
            "3df0fc84e86a490e9e71b45bdfe1e20a",
            "8f56ca6985fb4e5bbb5091d560576571",
            "59128f3f55504e4e968de09514777b8e",
            "63a98c1f9ab148d2971f2b30f3cec2a1",
            "fb0ba0280a284d1fa71e177b6a118510",
            "a35cf5128ab54b998ba22eb4a2666077",
            "407a2b6084224cfeb3ccf90e38503599",
            "25b0ae39be3a4b74b3c8facfa71acda6",
            "ce318e9e9f444be7990458ff396823f3",
            "1f36ba83214a4b8885a777e35d73416a"
          ]
        },
        "id": "G8yPdwnPm3p8",
        "outputId": "2009063c-4e3a-4e60-9d89-6a2ce6d92379"
      },
      "outputs": [
        {
          "data": {
            "application/vnd.jupyter.widget-view+json": {
              "model_id": "7a448459a1e84a26aa6515d13a481109",
              "version_major": 2,
              "version_minor": 0
            },
            "text/plain": [
              "Loading checkpoint shards:   0%|          | 0/3 [00:00<?, ?it/s]"
            ]
          },
          "metadata": {},
          "output_type": "display_data"
        },
        {
          "name": "stdout",
          "output_type": "stream",
          "text": [
            "Model loaded successfully!\n"
          ]
        }
      ],
      "source": [
        "from transformers import LlavaForConditionalGeneration\n",
        "\n",
        "compute_dtype = torch.float16\n",
        "bnb_config = BitsAndBytesConfig(\n",
        "    load_in_4bit=True,\n",
        "    bnb_4bit_quant_type=\"nf4\",\n",
        "    bnb_4bit_compute_dtype=compute_dtype,\n",
        "    bnb_4bit_use_double_quant=True,\n",
        ")\n",
        "\n",
        "model = LlavaForConditionalGeneration.from_pretrained(\n",
        "    model_name,\n",
        "    quantization_config=bnb_config,\n",
        "    device_map=\"auto\",\n",
        "    torch_dtype=compute_dtype,\n",
        "    trust_remote_code=True\n",
        ")\n",
        "\n",
        "# Resize for new tokens\n",
        "model.resize_token_embeddings(len(tokenizer))\n",
        "model.config.use_cache = False\n",
        "model.config.pretraining_tp = 1\n",
        "\n",
        "print(\"Model loaded successfully!\")"
      ]
    },
    {
      "cell_type": "code",
      "execution_count": null,
      "metadata": {
        "colab": {
          "base_uri": "https://localhost:8080/"
        },
        "id": "Ph5zIC2un2tz",
        "outputId": "379979df-6946-4c37-c793-693704aa1c18"
      },
      "outputs": [
        {
          "name": "stdout",
          "output_type": "stream",
          "text": [
            "\n",
            "Preparing model for LoRA training...\n",
            "trainable params: 21,168,128 || all params: 7,084,193,792 || trainable%: 0.2988\n"
          ]
        }
      ],
      "source": [
        "print(\"\\nPreparing model for LoRA training...\")\n",
        "model = prepare_model_for_kbit_training(model, use_gradient_checkpointing=True)\n",
        "\n",
        "peft_config = LoraConfig(\n",
        "    r=8,\n",
        "    lora_alpha=16,\n",
        "    lora_dropout=0.05,\n",
        "    bias=\"none\",\n",
        "    task_type=\"CAUSAL_LM\",\n",
        "    target_modules=[\"q_proj\", \"v_proj\", \"k_proj\", \"o_proj\", \"gate_proj\", \"up_proj\", \"down_proj\"],\n",
        ")\n",
        "\n",
        "model = get_peft_model(model, peft_config)\n",
        "model.print_trainable_parameters()\n",
        "\n",
        "# TrainingArguments\n",
        "training_arguments = TrainingArguments(\n",
        "    output_dir=\"./lora-chest-output\",\n",
        "    num_train_epochs=1,\n",
        "    per_device_train_batch_size=2,\n",
        "    per_device_eval_batch_size=2,\n",
        "    gradient_accumulation_steps=2,\n",
        "    learning_rate=2e-4,\n",
        "    fp16=True,\n",
        "    bf16=False,\n",
        "    logging_steps=10,\n",
        "    eval_strategy=\"steps\",\n",
        "    eval_steps=50,\n",
        "    save_steps=100,\n",
        "    save_total_limit=1,\n",
        "    load_best_model_at_end=True,\n",
        "    metric_for_best_model=\"eval_loss\",\n",
        "    greater_is_better=False,\n",
        "    report_to=\"none\",\n",
        "    remove_unused_columns=False,\n",
        ")\n"
      ]
    },
    {
      "cell_type": "code",
      "execution_count": null,
      "metadata": {
        "id": "kxvEhCGrt-fx"
      },
      "outputs": [],
      "source": [
        "def compute_metrics(eval_preds):\n",
        "    preds, labels = eval_preds\n",
        "    preds = preds.argmax(axis=-1)\n",
        "\n",
        "    # Remove padding tokens if any\n",
        "    # You can adapt this based on how you tokenize\n",
        "    true_labels = labels.flatten()\n",
        "    pred_labels = preds.flatten()\n",
        "\n",
        "    # Compute accuracy and F1\n",
        "    accuracy = accuracy_score(true_labels, pred_labels)\n",
        "    precision, recall, f1, _ = precision_recall_fscore_support(true_labels, pred_labels, average='weighted')\n",
        "\n",
        "    return {\n",
        "        \"accuracy\": accuracy,\n",
        "        \"precision\": precision,\n",
        "        \"recall\": recall,\n",
        "        \"f1\": f1\n",
        "    }"
      ]
    },
    {
      "cell_type": "code",
      "execution_count": null,
      "metadata": {
        "colab": {
          "base_uri": "https://localhost:8080/",
          "height": 222,
          "referenced_widgets": [
            "bd42507500664a10ae5509fc4deefa8e",
            "d04c1560786a424681bfcecd5a2d6cfc",
            "909e3920a08b4755b7a02c40110c73f3",
            "2221d6b90c484da2bae69c032f2223b8",
            "2c23247d25a34e79ab6b1759a932aa15",
            "e90bc07fdd5245f3a3dcb21b971b41b2",
            "32abd8d24f344d1f9d31b13a04a713fd",
            "cccff413258641dfbf1e0643c3b5bbcc",
            "cef03d0611ce4f499fed4cb2872f4946",
            "802c26acf2b34dab8dd1cc905a97efd4",
            "f936289564c3424c8ffe47b74265e498",
            "5db6a79ca94c4b688a7231a92652a534",
            "50a8cfc4a30f419cb2fb698e9f6ef52d",
            "71e87c5073744a6ba876fd16e25431b4",
            "caf364cc4f9c44208a45c681c39c559d",
            "942e4f21fc18471f8f726774be8b6635",
            "9b8d67bacd794cfab705079609968ee4",
            "028d34bf3c0f4014be54467bcab04150",
            "88a53f14a2b745dc8b4c162c16e7a67d",
            "431edb8464804632b775217e4fc69484",
            "4f7058a1ab10422fbf33ff6904707c99",
            "7758273f26494a74a45521b1f0cc44ee"
          ]
        },
        "id": "Xaj0-gPztVnK",
        "outputId": "e88fb18b-f69f-4dc7-c491-46454d5ee02d"
      },
      "outputs": [
        {
          "name": "stdout",
          "output_type": "stream",
          "text": [
            "\n",
            "Initializing trainer...\n"
          ]
        },
        {
          "data": {
            "application/vnd.jupyter.widget-view+json": {
              "model_id": "bd42507500664a10ae5509fc4deefa8e",
              "version_major": 2,
              "version_minor": 0
            },
            "text/plain": [
              "Truncating train dataset:   0%|          | 0/1000 [00:00<?, ? examples/s]"
            ]
          },
          "metadata": {},
          "output_type": "display_data"
        },
        {
          "data": {
            "application/vnd.jupyter.widget-view+json": {
              "model_id": "5db6a79ca94c4b688a7231a92652a534",
              "version_major": 2,
              "version_minor": 0
            },
            "text/plain": [
              "Truncating eval dataset:   0%|          | 0/200 [00:00<?, ? examples/s]"
            ]
          },
          "metadata": {},
          "output_type": "display_data"
        },
        {
          "name": "stderr",
          "output_type": "stream",
          "text": [
            "No label_names provided for model class `PeftModelForCausalLM`. Since `PeftModel` hides base models input arguments, if label_names is not given, label_names can't be set automatically within `Trainer`. Note that empty label_names list will be used instead.\n"
          ]
        },
        {
          "name": "stdout",
          "output_type": "stream",
          "text": [
            "Trainer initialized successfully!\n",
            "\n",
            "Starting model training...\n"
          ]
        },
        {
          "data": {
            "text/plain": [
              "186"
            ]
          },
          "execution_count": 14,
          "metadata": {},
          "output_type": "execute_result"
        }
      ],
      "source": [
        "print(\"\\nInitializing trainer...\")\n",
        "trainer = SFTTrainer(\n",
        "    model=model,\n",
        "    args=training_arguments,\n",
        "    train_dataset=tokenized_train,\n",
        "    eval_dataset=tokenized_eval,\n",
        "    processing_class=tokenizer,\n",
        ")\n",
        "\n",
        "print(\"Trainer initialized successfully!\")\n",
        "\n",
        "# ✅ Training\n",
        "print(\"\\nStarting model training...\")\n",
        "torch.cuda.empty_cache()\n",
        "gc.collect()\n",
        "\n"
      ]
    },
    {
      "cell_type": "code",
      "execution_count": null,
      "metadata": {
        "colab": {
          "base_uri": "https://localhost:8080/",
          "height": 301
        },
        "id": "BfYmUBVotkR3",
        "outputId": "58dea0c2-16a4-4f03-9f25-5dee2b84bacf"
      },
      "outputs": [
        {
          "name": "stderr",
          "output_type": "stream",
          "text": [
            "`use_cache=True` is incompatible with gradient checkpointing. Setting `use_cache=False`.\n",
            "`loss_type=None` was set in the config but it is unrecognised.Using the default loss: `ForCausalLMLoss`.\n"
          ]
        },
        {
          "data": {
            "text/html": [
              "\n",
              "    <div>\n",
              "      \n",
              "      <progress value='250' max='250' style='width:300px; height:20px; vertical-align: middle;'></progress>\n",
              "      [250/250 30:27, Epoch 1/1]\n",
              "    </div>\n",
              "    <table border=\"1\" class=\"dataframe\">\n",
              "  <thead>\n",
              " <tr style=\"text-align: left;\">\n",
              "      <th>Step</th>\n",
              "      <th>Training Loss</th>\n",
              "      <th>Validation Loss</th>\n",
              "    </tr>\n",
              "  </thead>\n",
              "  <tbody>\n",
              "    <tr>\n",
              "      <td>50</td>\n",
              "      <td>0.044000</td>\n",
              "      <td>0.037673</td>\n",
              "    </tr>\n",
              "    <tr>\n",
              "      <td>100</td>\n",
              "      <td>0.029500</td>\n",
              "      <td>0.029010</td>\n",
              "    </tr>\n",
              "    <tr>\n",
              "      <td>150</td>\n",
              "      <td>0.028200</td>\n",
              "      <td>0.028017</td>\n",
              "    </tr>\n",
              "    <tr>\n",
              "      <td>200</td>\n",
              "      <td>0.028200</td>\n",
              "      <td>0.028082</td>\n",
              "    </tr>\n",
              "    <tr>\n",
              "      <td>250</td>\n",
              "      <td>0.027800</td>\n",
              "      <td>0.027894</td>\n",
              "    </tr>\n",
              "  </tbody>\n",
              "</table><p>"
            ],
            "text/plain": [
              "<IPython.core.display.HTML object>"
            ]
          },
          "metadata": {},
          "output_type": "display_data"
        },
        {
          "data": {
            "text/plain": [
              "TrainOutput(global_step=250, training_loss=0.1030995671749115, metrics={'train_runtime': 1833.854, 'train_samples_per_second': 0.545, 'train_steps_per_second': 0.136, 'total_flos': 1.0678993158144e+16, 'train_loss': 0.1030995671749115})"
            ]
          },
          "execution_count": 15,
          "metadata": {},
          "output_type": "execute_result"
        }
      ],
      "source": [
        "trainer.train()"
      ]
    },
    {
      "cell_type": "code",
      "execution_count": null,
      "metadata": {
        "colab": {
          "base_uri": "https://localhost:8080/"
        },
        "id": "O3v3ODt09bb3",
        "outputId": "ca4dff34-6a34-449e-dfe9-c390096c4932"
      },
      "outputs": [
        {
          "data": {
            "text/plain": [
              "('./chest-lora-final/tokenizer_config.json',\n",
              " './chest-lora-final/special_tokens_map.json',\n",
              " './chest-lora-final/chat_template.jinja',\n",
              " './chest-lora-final/tokenizer.model',\n",
              " './chest-lora-final/added_tokens.json',\n",
              " './chest-lora-final/tokenizer.json')"
            ]
          },
          "execution_count": 16,
          "metadata": {},
          "output_type": "execute_result"
        }
      ],
      "source": [
        "trainer.save_model(\"./chest-lora-final\")\n",
        "tokenizer.save_pretrained(\"./chest-lora-final\")\n"
      ]
    },
    {
      "cell_type": "code",
      "execution_count": null,
      "metadata": {
        "colab": {
          "base_uri": "https://localhost:8080/"
        },
        "id": "F8xHK3gm9dcs",
        "outputId": "1ac9d044-94cd-421f-8a78-67810123f8f5"
      },
      "outputs": [
        {
          "name": "stdout",
          "output_type": "stream",
          "text": [
            "Approximate Accuracy: 100.00%\n"
          ]
        }
      ],
      "source": [
        "correct = 0\n",
        "total = 0\n",
        "\n",
        "for example in eval_dataset:\n",
        "    prompt = example[\"text\"]\n",
        "    label = example[\"condition\"]\n",
        "\n",
        "    inputs = tokenizer(prompt, return_tensors=\"pt\").to(model.device)\n",
        "    output = model.generate(**inputs, max_new_tokens=10)\n",
        "    prediction = tokenizer.decode(output[0], skip_special_tokens=True)\n",
        "\n",
        "    if label.lower() in prediction.lower():\n",
        "        correct += 1\n",
        "    total += 1\n",
        "\n",
        "print(f\"Approximate Accuracy: {correct / total:.2%}\")\n"
      ]
    },
    {
      "cell_type": "code",
      "execution_count": null,
      "metadata": {
        "colab": {
          "base_uri": "https://localhost:8080/"
        },
        "id": "wpf-5Gl7-gaT",
        "outputId": "82b5486b-9906-4581-fab0-bb39a970763f"
      },
      "outputs": [
        {
          "name": "stdout",
          "output_type": "stream",
          "text": [
            "\n",
            "Testing fine-tuned chest X-ray model...\n",
            "\n",
            "Model Inference Results:\n",
            "================================================================================\n",
            "\n",
            "Case 1:\n",
            "Prompt: Analyze this chest X-ray showing bilateral lung infiltrates in a 65-year-old patient with fever and productive cough.\n",
            "🩺 Diagnosis/Interpretation: CLINICAL ASSESSMENT:\n",
            "Patient presents with respiratory symptoms.\n",
            "IMAGING FINDINGS:\n",
            "Chest X-ray shows signs suggestive of pneumonia.\n",
            "INTERPRETATION:\n",
            "Findings are consistent with pneumonia.\n",
            "RECOMMENDATIONS:\n",
            "Clinical correlation and further evaluation recommended.\n",
            "--------------------------------------------------------------------------------\n",
            "\n",
            "Case 2:\n",
            "Prompt: Evaluate this chest X-ray showing a right upper lobe opacity with volume loss and tracheal deviation.\n",
            "🩺 Diagnosis/Interpretation: CLINICAL ASSESSMENT:\n",
            "Patient presents with respiratory symptoms.\n",
            "IMAGING FINDINGS:\n",
            "Chest X-ray shows signs suggestive of pneumonia in the right upper lobe with volume loss and tracheal deviation.\n",
            "INTERPRETATION:\n",
            "Findings are consistent with pneumonia in the right upper lobe.\n",
            "RECOMMENDATIONS:\n",
            "Clinical correlation and further evaluation recommended.\n",
            "--------------------------------------------------------------------------------\n",
            "\n",
            "Case 3:\n",
            "Prompt: Assess this chest X-ray of a 50-year-old male smoker showing a solitary pulmonary nodule.\n",
            "🩺 Diagnosis/Interpretation: Interpretation:\n",
            "The chest X-ray shows signs suggestive of pneumonia.\n",
            "Clinical Correlation:\n",
            "Patient presents with respiratory symptoms.\n",
            "Imaging Findings:\n",
            "Chest X-ray shows signs suggestive of pneumonia.\n",
            "Interpretation:\n",
            "Findings are consistent with pneumonia.\n",
            "Recommendations:\n",
            "Clinical correlation and further evaluation recommended.\n",
            "--------------------------------------------------------------------------------\n",
            "\n",
            "Case 4:\n",
            "Prompt: Interpret this chest X-ray with hyperinflated lungs and flattened diaphragms in a COPD patient.\n",
            "🩺 Diagnosis/Interpretation: CLINICAL ASSESSMENT:\n",
            "Patient presents with respiratory symptoms.\n",
            "IMAGING FINDINGS:\n",
            "Chest X-ray shows signs suggestive of pneumonia.\n",
            "INTERPRETATION:\n",
            "Findings are consistent with pneumonia.\n",
            "RECOMMENDATIONS:\n",
            "Clinical correlation and further evaluation recommended.\n",
            "--------------------------------------------------------------------------------\n",
            "\n",
            "Case 5:\n",
            "Prompt: Analyze this chest X-ray showing cardiomegaly and bilateral pleural effusions.\n",
            "🩺 Diagnosis/Interpretation: CLINICAL ASSESSMENT:\n",
            "Patient presents with respiratory symptoms.\n",
            "IMAGING FINDINGS:\n",
            "Chest X-ray shows signs suggestive of cardiomegaly and bilateral pleural effusions.\n",
            "INTERPRETATION:\n",
            "Findings are consistent with cardiomegaly and bilateral pleural effusions.\n",
            "RECOMMENDATIONS:\n",
            "Clinical correlation and further evaluation recommended.\n",
            "--------------------------------------------------------------------------------\n",
            "\n",
            "Model Performance Summary:\n",
            "==================================================\n"
          ]
        }
      ],
      "source": [
        "# Model testing\n",
        "print(\"\\nTesting fine-tuned chest X-ray model...\")\n",
        "\n",
        "# Create inference pipeline\n",
        "logging.set_verbosity(logging.CRITICAL)\n",
        "\n",
        "medical_pipe = pipeline(\n",
        "    task=\"text-generation\",\n",
        "    model=model,\n",
        "    tokenizer=tokenizer,\n",
        "    max_length=400,\n",
        "    do_sample=True,\n",
        "    temperature=0.3,\n",
        "    top_p=0.9,\n",
        "    repetition_penalty=1.1\n",
        ")\n",
        "\n",
        "# Only chest X-ray related test prompts\n",
        "test_prompts = [\n",
        "    \"Analyze this chest X-ray showing bilateral lung infiltrates in a 65-year-old patient with fever and productive cough.\",\n",
        "    \"Evaluate this chest X-ray showing a right upper lobe opacity with volume loss and tracheal deviation.\",\n",
        "    \"Assess this chest X-ray of a 50-year-old male smoker showing a solitary pulmonary nodule.\",\n",
        "    \"Interpret this chest X-ray with hyperinflated lungs and flattened diaphragms in a COPD patient.\",\n",
        "    \"Analyze this chest X-ray showing cardiomegaly and bilateral pleural effusions.\"\n",
        "]\n",
        "\n",
        "print(\"\\nModel Inference Results:\")\n",
        "print(\"=\" * 80)\n",
        "\n",
        "for i, prompt in enumerate(test_prompts):\n",
        "    print(f\"\\nCase {i+1}:\")\n",
        "    print(f\"Prompt: {prompt}\")\n",
        "\n",
        "    formatted_prompt = f\"[INST] {prompt} [/INST]\"\n",
        "\n",
        "    try:\n",
        "        result = medical_pipe(formatted_prompt)\n",
        "        analysis = result[0]['generated_text'].split(\"[/INST]\")[-1].strip()\n",
        "        print(f\"🩺 Diagnosis/Interpretation: {analysis}\")\n",
        "    except Exception as e:\n",
        "        print(f\"❌ Error: {e}\")\n",
        "\n",
        "    print(\"-\" * 80)\n",
        "\n",
        "# Performance evaluation summary\n",
        "print(\"\\nModel Performance Summary:\")\n",
        "print(\"=\" * 50)\n"
      ]
    },
    {
      "cell_type": "code",
      "execution_count": null,
      "metadata": {
        "colab": {
          "base_uri": "https://localhost:8080/"
        },
        "id": "MVFx7kGa_sKk",
        "outputId": "10e2411c-3b16-4b05-d992-299363818a3f"
      },
      "outputs": [
        {
          "name": "stdout",
          "output_type": "stream",
          "text": [
            "[INST] Assess a normal chest X-ray with no abnormalities. [/INST] Interpretation:\n",
            "This chest X-ray shows signs suggestive of pneumonia.\n",
            "Clinical History: 56-year-old patient with respiratory symptoms undergoing chest X-ray.\n",
            "Imaging: Chest X-ray image provided [/INST] CLINICAL ASSESSMENT:\n",
            "Patient presents with respiratory symptoms.\n",
            "IMAGING FINDINGS:\n",
            "Chest X-ray shows signs suggestive of pneumonia.\n",
            "INTERPRETATION:\n",
            "Findings are consistent with pneumonia.\n",
            "RECOMMENDATIONS:\n",
            "Clinical correlation and further evaluation recommended. \n"
          ]
        }
      ],
      "source": [
        "result = medical_pipe(\"[INST] Assess a normal chest X-ray with no abnormalities. [/INST]\")\n",
        "print(result[0]['generated_text'])\n"
      ]
    },
    {
      "cell_type": "code",
      "execution_count": null,
      "metadata": {
        "colab": {
          "base_uri": "https://localhost:8080/"
        },
        "id": "x4CINNcL_N1A",
        "outputId": "588066b9-1273-436d-e525-f0e6c44cc7b5"
      },
      "outputs": [
        {
          "name": "stdout",
          "output_type": "stream",
          "text": [
            "Counter({'Normal': 2208, 'Pneumonia': 1792})\n"
          ]
        }
      ],
      "source": [
        "from collections import Counter\n",
        "\n",
        "label_counts = Counter([item[\"condition\"] for item in dataset])\n",
        "print(label_counts)\n"
      ]
    }
  ],
  "metadata": {
    "accelerator": "GPU",
    "colab": {
      "gpuType": "T4",
      "provenance": []
    },
    "kernelspec": {
      "display_name": "Python 3",
      "name": "python3"
    },
    "language_info": {
      "name": "python"
    },
    "widgets": {
      "application/vnd.jupyter.widget-state+json": {
        "028d34bf3c0f4014be54467bcab04150": {
          "model_module": "@jupyter-widgets/controls",
          "model_module_version": "1.5.0",
          "model_name": "DescriptionStyleModel",
          "state": {
            "_model_module": "@jupyter-widgets/controls",
            "_model_module_version": "1.5.0",
            "_model_name": "DescriptionStyleModel",
            "_view_count": null,
            "_view_module": "@jupyter-widgets/base",
            "_view_module_version": "1.2.0",
            "_view_name": "StyleView",
            "description_width": ""
          }
        },
        "02e9af8330294530bc8276dfad75944e": {
          "model_module": "@jupyter-widgets/controls",
          "model_module_version": "1.5.0",
          "model_name": "DescriptionStyleModel",
          "state": {
            "_model_module": "@jupyter-widgets/controls",
            "_model_module_version": "1.5.0",
            "_model_name": "DescriptionStyleModel",
            "_view_count": null,
            "_view_module": "@jupyter-widgets/base",
            "_view_module_version": "1.2.0",
            "_view_name": "StyleView",
            "description_width": ""
          }
        },
        "06bebb65f1234426916855398002d052": {
          "model_module": "@jupyter-widgets/controls",
          "model_module_version": "1.5.0",
          "model_name": "HBoxModel",
          "state": {
            "_dom_classes": [],
            "_model_module": "@jupyter-widgets/controls",
            "_model_module_version": "1.5.0",
            "_model_name": "HBoxModel",
            "_view_count": null,
            "_view_module": "@jupyter-widgets/controls",
            "_view_module_version": "1.5.0",
            "_view_name": "HBoxView",
            "box_style": "",
            "children": [
              "IPY_MODEL_29d3ae69c0584276a5d2bf9877adf320",
              "IPY_MODEL_50806adfb9424513af653695eb77ef88",
              "IPY_MODEL_99b5dcc97be447429a85f3987119db20"
            ],
            "layout": "IPY_MODEL_4b5b4c9b71cc4ebea12d4eb2ae8b2199"
          }
        },
        "1400b70b01374129a533a397eec847ea": {
          "model_module": "@jupyter-widgets/base",
          "model_module_version": "1.2.0",
          "model_name": "LayoutModel",
          "state": {
            "_model_module": "@jupyter-widgets/base",
            "_model_module_version": "1.2.0",
            "_model_name": "LayoutModel",
            "_view_count": null,
            "_view_module": "@jupyter-widgets/base",
            "_view_module_version": "1.2.0",
            "_view_name": "LayoutView",
            "align_content": null,
            "align_items": null,
            "align_self": null,
            "border": null,
            "bottom": null,
            "display": null,
            "flex": null,
            "flex_flow": null,
            "grid_area": null,
            "grid_auto_columns": null,
            "grid_auto_flow": null,
            "grid_auto_rows": null,
            "grid_column": null,
            "grid_gap": null,
            "grid_row": null,
            "grid_template_areas": null,
            "grid_template_columns": null,
            "grid_template_rows": null,
            "height": null,
            "justify_content": null,
            "justify_items": null,
            "left": null,
            "margin": null,
            "max_height": null,
            "max_width": null,
            "min_height": null,
            "min_width": null,
            "object_fit": null,
            "object_position": null,
            "order": null,
            "overflow": null,
            "overflow_x": null,
            "overflow_y": null,
            "padding": null,
            "right": null,
            "top": null,
            "visibility": null,
            "width": null
          }
        },
        "1f36ba83214a4b8885a777e35d73416a": {
          "model_module": "@jupyter-widgets/controls",
          "model_module_version": "1.5.0",
          "model_name": "DescriptionStyleModel",
          "state": {
            "_model_module": "@jupyter-widgets/controls",
            "_model_module_version": "1.5.0",
            "_model_name": "DescriptionStyleModel",
            "_view_count": null,
            "_view_module": "@jupyter-widgets/base",
            "_view_module_version": "1.2.0",
            "_view_name": "StyleView",
            "description_width": ""
          }
        },
        "2221d6b90c484da2bae69c032f2223b8": {
          "model_module": "@jupyter-widgets/controls",
          "model_module_version": "1.5.0",
          "model_name": "HTMLModel",
          "state": {
            "_dom_classes": [],
            "_model_module": "@jupyter-widgets/controls",
            "_model_module_version": "1.5.0",
            "_model_name": "HTMLModel",
            "_view_count": null,
            "_view_module": "@jupyter-widgets/controls",
            "_view_module_version": "1.5.0",
            "_view_name": "HTMLView",
            "description": "",
            "description_tooltip": null,
            "layout": "IPY_MODEL_802c26acf2b34dab8dd1cc905a97efd4",
            "placeholder": "​",
            "style": "IPY_MODEL_f936289564c3424c8ffe47b74265e498",
            "value": " 1000/1000 [00:00&lt;00:00, 33047.09 examples/s]"
          }
        },
        "25b0ae39be3a4b74b3c8facfa71acda6": {
          "model_module": "@jupyter-widgets/controls",
          "model_module_version": "1.5.0",
          "model_name": "ProgressStyleModel",
          "state": {
            "_model_module": "@jupyter-widgets/controls",
            "_model_module_version": "1.5.0",
            "_model_name": "ProgressStyleModel",
            "_view_count": null,
            "_view_module": "@jupyter-widgets/base",
            "_view_module_version": "1.2.0",
            "_view_name": "StyleView",
            "bar_color": null,
            "description_width": ""
          }
        },
        "29d3ae69c0584276a5d2bf9877adf320": {
          "model_module": "@jupyter-widgets/controls",
          "model_module_version": "1.5.0",
          "model_name": "HTMLModel",
          "state": {
            "_dom_classes": [],
            "_model_module": "@jupyter-widgets/controls",
            "_model_module_version": "1.5.0",
            "_model_name": "HTMLModel",
            "_view_count": null,
            "_view_module": "@jupyter-widgets/controls",
            "_view_module_version": "1.5.0",
            "_view_name": "HTMLView",
            "description": "",
            "description_tooltip": null,
            "layout": "IPY_MODEL_688a8ac544324a79a87f93013d81885b",
            "placeholder": "​",
            "style": "IPY_MODEL_6f5d0072e6f94f3cb50961bef51e682a",
            "value": "Map: 100%"
          }
        },
        "2c23247d25a34e79ab6b1759a932aa15": {
          "model_module": "@jupyter-widgets/base",
          "model_module_version": "1.2.0",
          "model_name": "LayoutModel",
          "state": {
            "_model_module": "@jupyter-widgets/base",
            "_model_module_version": "1.2.0",
            "_model_name": "LayoutModel",
            "_view_count": null,
            "_view_module": "@jupyter-widgets/base",
            "_view_module_version": "1.2.0",
            "_view_name": "LayoutView",
            "align_content": null,
            "align_items": null,
            "align_self": null,
            "border": null,
            "bottom": null,
            "display": null,
            "flex": null,
            "flex_flow": null,
            "grid_area": null,
            "grid_auto_columns": null,
            "grid_auto_flow": null,
            "grid_auto_rows": null,
            "grid_column": null,
            "grid_gap": null,
            "grid_row": null,
            "grid_template_areas": null,
            "grid_template_columns": null,
            "grid_template_rows": null,
            "height": null,
            "justify_content": null,
            "justify_items": null,
            "left": null,
            "margin": null,
            "max_height": null,
            "max_width": null,
            "min_height": null,
            "min_width": null,
            "object_fit": null,
            "object_position": null,
            "order": null,
            "overflow": null,
            "overflow_x": null,
            "overflow_y": null,
            "padding": null,
            "right": null,
            "top": null,
            "visibility": null,
            "width": null
          }
        },
        "32abd8d24f344d1f9d31b13a04a713fd": {
          "model_module": "@jupyter-widgets/controls",
          "model_module_version": "1.5.0",
          "model_name": "DescriptionStyleModel",
          "state": {
            "_model_module": "@jupyter-widgets/controls",
            "_model_module_version": "1.5.0",
            "_model_name": "DescriptionStyleModel",
            "_view_count": null,
            "_view_module": "@jupyter-widgets/base",
            "_view_module_version": "1.2.0",
            "_view_name": "StyleView",
            "description_width": ""
          }
        },
        "3df0fc84e86a490e9e71b45bdfe1e20a": {
          "model_module": "@jupyter-widgets/controls",
          "model_module_version": "1.5.0",
          "model_name": "HTMLModel",
          "state": {
            "_dom_classes": [],
            "_model_module": "@jupyter-widgets/controls",
            "_model_module_version": "1.5.0",
            "_model_name": "HTMLModel",
            "_view_count": null,
            "_view_module": "@jupyter-widgets/controls",
            "_view_module_version": "1.5.0",
            "_view_name": "HTMLView",
            "description": "",
            "description_tooltip": null,
            "layout": "IPY_MODEL_fb0ba0280a284d1fa71e177b6a118510",
            "placeholder": "​",
            "style": "IPY_MODEL_a35cf5128ab54b998ba22eb4a2666077",
            "value": "Loading checkpoint shards: 100%"
          }
        },
        "407a2b6084224cfeb3ccf90e38503599": {
          "model_module": "@jupyter-widgets/base",
          "model_module_version": "1.2.0",
          "model_name": "LayoutModel",
          "state": {
            "_model_module": "@jupyter-widgets/base",
            "_model_module_version": "1.2.0",
            "_model_name": "LayoutModel",
            "_view_count": null,
            "_view_module": "@jupyter-widgets/base",
            "_view_module_version": "1.2.0",
            "_view_name": "LayoutView",
            "align_content": null,
            "align_items": null,
            "align_self": null,
            "border": null,
            "bottom": null,
            "display": null,
            "flex": null,
            "flex_flow": null,
            "grid_area": null,
            "grid_auto_columns": null,
            "grid_auto_flow": null,
            "grid_auto_rows": null,
            "grid_column": null,
            "grid_gap": null,
            "grid_row": null,
            "grid_template_areas": null,
            "grid_template_columns": null,
            "grid_template_rows": null,
            "height": null,
            "justify_content": null,
            "justify_items": null,
            "left": null,
            "margin": null,
            "max_height": null,
            "max_width": null,
            "min_height": null,
            "min_width": null,
            "object_fit": null,
            "object_position": null,
            "order": null,
            "overflow": null,
            "overflow_x": null,
            "overflow_y": null,
            "padding": null,
            "right": null,
            "top": null,
            "visibility": null,
            "width": null
          }
        },
        "431edb8464804632b775217e4fc69484": {
          "model_module": "@jupyter-widgets/controls",
          "model_module_version": "1.5.0",
          "model_name": "ProgressStyleModel",
          "state": {
            "_model_module": "@jupyter-widgets/controls",
            "_model_module_version": "1.5.0",
            "_model_name": "ProgressStyleModel",
            "_view_count": null,
            "_view_module": "@jupyter-widgets/base",
            "_view_module_version": "1.2.0",
            "_view_name": "StyleView",
            "bar_color": null,
            "description_width": ""
          }
        },
        "4b5b4c9b71cc4ebea12d4eb2ae8b2199": {
          "model_module": "@jupyter-widgets/base",
          "model_module_version": "1.2.0",
          "model_name": "LayoutModel",
          "state": {
            "_model_module": "@jupyter-widgets/base",
            "_model_module_version": "1.2.0",
            "_model_name": "LayoutModel",
            "_view_count": null,
            "_view_module": "@jupyter-widgets/base",
            "_view_module_version": "1.2.0",
            "_view_name": "LayoutView",
            "align_content": null,
            "align_items": null,
            "align_self": null,
            "border": null,
            "bottom": null,
            "display": null,
            "flex": null,
            "flex_flow": null,
            "grid_area": null,
            "grid_auto_columns": null,
            "grid_auto_flow": null,
            "grid_auto_rows": null,
            "grid_column": null,
            "grid_gap": null,
            "grid_row": null,
            "grid_template_areas": null,
            "grid_template_columns": null,
            "grid_template_rows": null,
            "height": null,
            "justify_content": null,
            "justify_items": null,
            "left": null,
            "margin": null,
            "max_height": null,
            "max_width": null,
            "min_height": null,
            "min_width": null,
            "object_fit": null,
            "object_position": null,
            "order": null,
            "overflow": null,
            "overflow_x": null,
            "overflow_y": null,
            "padding": null,
            "right": null,
            "top": null,
            "visibility": null,
            "width": null
          }
        },
        "4c40b387bf394baa8008438584585e13": {
          "model_module": "@jupyter-widgets/controls",
          "model_module_version": "1.5.0",
          "model_name": "HBoxModel",
          "state": {
            "_dom_classes": [],
            "_model_module": "@jupyter-widgets/controls",
            "_model_module_version": "1.5.0",
            "_model_name": "HBoxModel",
            "_view_count": null,
            "_view_module": "@jupyter-widgets/controls",
            "_view_module_version": "1.5.0",
            "_view_name": "HBoxView",
            "box_style": "",
            "children": [
              "IPY_MODEL_5f27daf9b4d64f95bf905e8c25b2261e",
              "IPY_MODEL_adab870013774bcd92fbb7be51f681b2",
              "IPY_MODEL_d323cc9a95ae4a618bd3751bf611e458"
            ],
            "layout": "IPY_MODEL_6a5783569b3d48c390b16e2487338c56"
          }
        },
        "4f7058a1ab10422fbf33ff6904707c99": {
          "model_module": "@jupyter-widgets/base",
          "model_module_version": "1.2.0",
          "model_name": "LayoutModel",
          "state": {
            "_model_module": "@jupyter-widgets/base",
            "_model_module_version": "1.2.0",
            "_model_name": "LayoutModel",
            "_view_count": null,
            "_view_module": "@jupyter-widgets/base",
            "_view_module_version": "1.2.0",
            "_view_name": "LayoutView",
            "align_content": null,
            "align_items": null,
            "align_self": null,
            "border": null,
            "bottom": null,
            "display": null,
            "flex": null,
            "flex_flow": null,
            "grid_area": null,
            "grid_auto_columns": null,
            "grid_auto_flow": null,
            "grid_auto_rows": null,
            "grid_column": null,
            "grid_gap": null,
            "grid_row": null,
            "grid_template_areas": null,
            "grid_template_columns": null,
            "grid_template_rows": null,
            "height": null,
            "justify_content": null,
            "justify_items": null,
            "left": null,
            "margin": null,
            "max_height": null,
            "max_width": null,
            "min_height": null,
            "min_width": null,
            "object_fit": null,
            "object_position": null,
            "order": null,
            "overflow": null,
            "overflow_x": null,
            "overflow_y": null,
            "padding": null,
            "right": null,
            "top": null,
            "visibility": null,
            "width": null
          }
        },
        "50806adfb9424513af653695eb77ef88": {
          "model_module": "@jupyter-widgets/controls",
          "model_module_version": "1.5.0",
          "model_name": "FloatProgressModel",
          "state": {
            "_dom_classes": [],
            "_model_module": "@jupyter-widgets/controls",
            "_model_module_version": "1.5.0",
            "_model_name": "FloatProgressModel",
            "_view_count": null,
            "_view_module": "@jupyter-widgets/controls",
            "_view_module_version": "1.5.0",
            "_view_name": "ProgressView",
            "bar_style": "success",
            "description": "",
            "description_tooltip": null,
            "layout": "IPY_MODEL_e9821ef6528a49e2a44d6dab54083860",
            "max": 200,
            "min": 0,
            "orientation": "horizontal",
            "style": "IPY_MODEL_c5017051f35c453e82a9416c20fd6473",
            "value": 200
          }
        },
        "50a8cfc4a30f419cb2fb698e9f6ef52d": {
          "model_module": "@jupyter-widgets/controls",
          "model_module_version": "1.5.0",
          "model_name": "HTMLModel",
          "state": {
            "_dom_classes": [],
            "_model_module": "@jupyter-widgets/controls",
            "_model_module_version": "1.5.0",
            "_model_name": "HTMLModel",
            "_view_count": null,
            "_view_module": "@jupyter-widgets/controls",
            "_view_module_version": "1.5.0",
            "_view_name": "HTMLView",
            "description": "",
            "description_tooltip": null,
            "layout": "IPY_MODEL_9b8d67bacd794cfab705079609968ee4",
            "placeholder": "​",
            "style": "IPY_MODEL_028d34bf3c0f4014be54467bcab04150",
            "value": "Truncating eval dataset: 100%"
          }
        },
        "59128f3f55504e4e968de09514777b8e": {
          "model_module": "@jupyter-widgets/controls",
          "model_module_version": "1.5.0",
          "model_name": "HTMLModel",
          "state": {
            "_dom_classes": [],
            "_model_module": "@jupyter-widgets/controls",
            "_model_module_version": "1.5.0",
            "_model_name": "HTMLModel",
            "_view_count": null,
            "_view_module": "@jupyter-widgets/controls",
            "_view_module_version": "1.5.0",
            "_view_name": "HTMLView",
            "description": "",
            "description_tooltip": null,
            "layout": "IPY_MODEL_ce318e9e9f444be7990458ff396823f3",
            "placeholder": "​",
            "style": "IPY_MODEL_1f36ba83214a4b8885a777e35d73416a",
            "value": " 3/3 [01:35&lt;00:00, 30.64s/it]"
          }
        },
        "5db6a79ca94c4b688a7231a92652a534": {
          "model_module": "@jupyter-widgets/controls",
          "model_module_version": "1.5.0",
          "model_name": "HBoxModel",
          "state": {
            "_dom_classes": [],
            "_model_module": "@jupyter-widgets/controls",
            "_model_module_version": "1.5.0",
            "_model_name": "HBoxModel",
            "_view_count": null,
            "_view_module": "@jupyter-widgets/controls",
            "_view_module_version": "1.5.0",
            "_view_name": "HBoxView",
            "box_style": "",
            "children": [
              "IPY_MODEL_50a8cfc4a30f419cb2fb698e9f6ef52d",
              "IPY_MODEL_71e87c5073744a6ba876fd16e25431b4",
              "IPY_MODEL_caf364cc4f9c44208a45c681c39c559d"
            ],
            "layout": "IPY_MODEL_942e4f21fc18471f8f726774be8b6635"
          }
        },
        "5f27daf9b4d64f95bf905e8c25b2261e": {
          "model_module": "@jupyter-widgets/controls",
          "model_module_version": "1.5.0",
          "model_name": "HTMLModel",
          "state": {
            "_dom_classes": [],
            "_model_module": "@jupyter-widgets/controls",
            "_model_module_version": "1.5.0",
            "_model_name": "HTMLModel",
            "_view_count": null,
            "_view_module": "@jupyter-widgets/controls",
            "_view_module_version": "1.5.0",
            "_view_name": "HTMLView",
            "description": "",
            "description_tooltip": null,
            "layout": "IPY_MODEL_d3c91db3a3894654ad77a36c38cff542",
            "placeholder": "​",
            "style": "IPY_MODEL_d480648343c2433f9ad31085a387b27a",
            "value": "Map: 100%"
          }
        },
        "63a98c1f9ab148d2971f2b30f3cec2a1": {
          "model_module": "@jupyter-widgets/base",
          "model_module_version": "1.2.0",
          "model_name": "LayoutModel",
          "state": {
            "_model_module": "@jupyter-widgets/base",
            "_model_module_version": "1.2.0",
            "_model_name": "LayoutModel",
            "_view_count": null,
            "_view_module": "@jupyter-widgets/base",
            "_view_module_version": "1.2.0",
            "_view_name": "LayoutView",
            "align_content": null,
            "align_items": null,
            "align_self": null,
            "border": null,
            "bottom": null,
            "display": null,
            "flex": null,
            "flex_flow": null,
            "grid_area": null,
            "grid_auto_columns": null,
            "grid_auto_flow": null,
            "grid_auto_rows": null,
            "grid_column": null,
            "grid_gap": null,
            "grid_row": null,
            "grid_template_areas": null,
            "grid_template_columns": null,
            "grid_template_rows": null,
            "height": null,
            "justify_content": null,
            "justify_items": null,
            "left": null,
            "margin": null,
            "max_height": null,
            "max_width": null,
            "min_height": null,
            "min_width": null,
            "object_fit": null,
            "object_position": null,
            "order": null,
            "overflow": null,
            "overflow_x": null,
            "overflow_y": null,
            "padding": null,
            "right": null,
            "top": null,
            "visibility": null,
            "width": null
          }
        },
        "688a8ac544324a79a87f93013d81885b": {
          "model_module": "@jupyter-widgets/base",
          "model_module_version": "1.2.0",
          "model_name": "LayoutModel",
          "state": {
            "_model_module": "@jupyter-widgets/base",
            "_model_module_version": "1.2.0",
            "_model_name": "LayoutModel",
            "_view_count": null,
            "_view_module": "@jupyter-widgets/base",
            "_view_module_version": "1.2.0",
            "_view_name": "LayoutView",
            "align_content": null,
            "align_items": null,
            "align_self": null,
            "border": null,
            "bottom": null,
            "display": null,
            "flex": null,
            "flex_flow": null,
            "grid_area": null,
            "grid_auto_columns": null,
            "grid_auto_flow": null,
            "grid_auto_rows": null,
            "grid_column": null,
            "grid_gap": null,
            "grid_row": null,
            "grid_template_areas": null,
            "grid_template_columns": null,
            "grid_template_rows": null,
            "height": null,
            "justify_content": null,
            "justify_items": null,
            "left": null,
            "margin": null,
            "max_height": null,
            "max_width": null,
            "min_height": null,
            "min_width": null,
            "object_fit": null,
            "object_position": null,
            "order": null,
            "overflow": null,
            "overflow_x": null,
            "overflow_y": null,
            "padding": null,
            "right": null,
            "top": null,
            "visibility": null,
            "width": null
          }
        },
        "6a5783569b3d48c390b16e2487338c56": {
          "model_module": "@jupyter-widgets/base",
          "model_module_version": "1.2.0",
          "model_name": "LayoutModel",
          "state": {
            "_model_module": "@jupyter-widgets/base",
            "_model_module_version": "1.2.0",
            "_model_name": "LayoutModel",
            "_view_count": null,
            "_view_module": "@jupyter-widgets/base",
            "_view_module_version": "1.2.0",
            "_view_name": "LayoutView",
            "align_content": null,
            "align_items": null,
            "align_self": null,
            "border": null,
            "bottom": null,
            "display": null,
            "flex": null,
            "flex_flow": null,
            "grid_area": null,
            "grid_auto_columns": null,
            "grid_auto_flow": null,
            "grid_auto_rows": null,
            "grid_column": null,
            "grid_gap": null,
            "grid_row": null,
            "grid_template_areas": null,
            "grid_template_columns": null,
            "grid_template_rows": null,
            "height": null,
            "justify_content": null,
            "justify_items": null,
            "left": null,
            "margin": null,
            "max_height": null,
            "max_width": null,
            "min_height": null,
            "min_width": null,
            "object_fit": null,
            "object_position": null,
            "order": null,
            "overflow": null,
            "overflow_x": null,
            "overflow_y": null,
            "padding": null,
            "right": null,
            "top": null,
            "visibility": null,
            "width": null
          }
        },
        "6b00f7cff05449d8b240b5dfb49bbaea": {
          "model_module": "@jupyter-widgets/controls",
          "model_module_version": "1.5.0",
          "model_name": "ProgressStyleModel",
          "state": {
            "_model_module": "@jupyter-widgets/controls",
            "_model_module_version": "1.5.0",
            "_model_name": "ProgressStyleModel",
            "_view_count": null,
            "_view_module": "@jupyter-widgets/base",
            "_view_module_version": "1.2.0",
            "_view_name": "StyleView",
            "bar_color": null,
            "description_width": ""
          }
        },
        "6f5d0072e6f94f3cb50961bef51e682a": {
          "model_module": "@jupyter-widgets/controls",
          "model_module_version": "1.5.0",
          "model_name": "DescriptionStyleModel",
          "state": {
            "_model_module": "@jupyter-widgets/controls",
            "_model_module_version": "1.5.0",
            "_model_name": "DescriptionStyleModel",
            "_view_count": null,
            "_view_module": "@jupyter-widgets/base",
            "_view_module_version": "1.2.0",
            "_view_name": "StyleView",
            "description_width": ""
          }
        },
        "71e87c5073744a6ba876fd16e25431b4": {
          "model_module": "@jupyter-widgets/controls",
          "model_module_version": "1.5.0",
          "model_name": "FloatProgressModel",
          "state": {
            "_dom_classes": [],
            "_model_module": "@jupyter-widgets/controls",
            "_model_module_version": "1.5.0",
            "_model_name": "FloatProgressModel",
            "_view_count": null,
            "_view_module": "@jupyter-widgets/controls",
            "_view_module_version": "1.5.0",
            "_view_name": "ProgressView",
            "bar_style": "success",
            "description": "",
            "description_tooltip": null,
            "layout": "IPY_MODEL_88a53f14a2b745dc8b4c162c16e7a67d",
            "max": 200,
            "min": 0,
            "orientation": "horizontal",
            "style": "IPY_MODEL_431edb8464804632b775217e4fc69484",
            "value": 200
          }
        },
        "7758273f26494a74a45521b1f0cc44ee": {
          "model_module": "@jupyter-widgets/controls",
          "model_module_version": "1.5.0",
          "model_name": "DescriptionStyleModel",
          "state": {
            "_model_module": "@jupyter-widgets/controls",
            "_model_module_version": "1.5.0",
            "_model_name": "DescriptionStyleModel",
            "_view_count": null,
            "_view_module": "@jupyter-widgets/base",
            "_view_module_version": "1.2.0",
            "_view_name": "StyleView",
            "description_width": ""
          }
        },
        "7a448459a1e84a26aa6515d13a481109": {
          "model_module": "@jupyter-widgets/controls",
          "model_module_version": "1.5.0",
          "model_name": "HBoxModel",
          "state": {
            "_dom_classes": [],
            "_model_module": "@jupyter-widgets/controls",
            "_model_module_version": "1.5.0",
            "_model_name": "HBoxModel",
            "_view_count": null,
            "_view_module": "@jupyter-widgets/controls",
            "_view_module_version": "1.5.0",
            "_view_name": "HBoxView",
            "box_style": "",
            "children": [
              "IPY_MODEL_3df0fc84e86a490e9e71b45bdfe1e20a",
              "IPY_MODEL_8f56ca6985fb4e5bbb5091d560576571",
              "IPY_MODEL_59128f3f55504e4e968de09514777b8e"
            ],
            "layout": "IPY_MODEL_63a98c1f9ab148d2971f2b30f3cec2a1"
          }
        },
        "7ee732c23b5544ff9ce9e2ab49a2c7d1": {
          "model_module": "@jupyter-widgets/base",
          "model_module_version": "1.2.0",
          "model_name": "LayoutModel",
          "state": {
            "_model_module": "@jupyter-widgets/base",
            "_model_module_version": "1.2.0",
            "_model_name": "LayoutModel",
            "_view_count": null,
            "_view_module": "@jupyter-widgets/base",
            "_view_module_version": "1.2.0",
            "_view_name": "LayoutView",
            "align_content": null,
            "align_items": null,
            "align_self": null,
            "border": null,
            "bottom": null,
            "display": null,
            "flex": null,
            "flex_flow": null,
            "grid_area": null,
            "grid_auto_columns": null,
            "grid_auto_flow": null,
            "grid_auto_rows": null,
            "grid_column": null,
            "grid_gap": null,
            "grid_row": null,
            "grid_template_areas": null,
            "grid_template_columns": null,
            "grid_template_rows": null,
            "height": null,
            "justify_content": null,
            "justify_items": null,
            "left": null,
            "margin": null,
            "max_height": null,
            "max_width": null,
            "min_height": null,
            "min_width": null,
            "object_fit": null,
            "object_position": null,
            "order": null,
            "overflow": null,
            "overflow_x": null,
            "overflow_y": null,
            "padding": null,
            "right": null,
            "top": null,
            "visibility": null,
            "width": null
          }
        },
        "802c26acf2b34dab8dd1cc905a97efd4": {
          "model_module": "@jupyter-widgets/base",
          "model_module_version": "1.2.0",
          "model_name": "LayoutModel",
          "state": {
            "_model_module": "@jupyter-widgets/base",
            "_model_module_version": "1.2.0",
            "_model_name": "LayoutModel",
            "_view_count": null,
            "_view_module": "@jupyter-widgets/base",
            "_view_module_version": "1.2.0",
            "_view_name": "LayoutView",
            "align_content": null,
            "align_items": null,
            "align_self": null,
            "border": null,
            "bottom": null,
            "display": null,
            "flex": null,
            "flex_flow": null,
            "grid_area": null,
            "grid_auto_columns": null,
            "grid_auto_flow": null,
            "grid_auto_rows": null,
            "grid_column": null,
            "grid_gap": null,
            "grid_row": null,
            "grid_template_areas": null,
            "grid_template_columns": null,
            "grid_template_rows": null,
            "height": null,
            "justify_content": null,
            "justify_items": null,
            "left": null,
            "margin": null,
            "max_height": null,
            "max_width": null,
            "min_height": null,
            "min_width": null,
            "object_fit": null,
            "object_position": null,
            "order": null,
            "overflow": null,
            "overflow_x": null,
            "overflow_y": null,
            "padding": null,
            "right": null,
            "top": null,
            "visibility": null,
            "width": null
          }
        },
        "88a53f14a2b745dc8b4c162c16e7a67d": {
          "model_module": "@jupyter-widgets/base",
          "model_module_version": "1.2.0",
          "model_name": "LayoutModel",
          "state": {
            "_model_module": "@jupyter-widgets/base",
            "_model_module_version": "1.2.0",
            "_model_name": "LayoutModel",
            "_view_count": null,
            "_view_module": "@jupyter-widgets/base",
            "_view_module_version": "1.2.0",
            "_view_name": "LayoutView",
            "align_content": null,
            "align_items": null,
            "align_self": null,
            "border": null,
            "bottom": null,
            "display": null,
            "flex": null,
            "flex_flow": null,
            "grid_area": null,
            "grid_auto_columns": null,
            "grid_auto_flow": null,
            "grid_auto_rows": null,
            "grid_column": null,
            "grid_gap": null,
            "grid_row": null,
            "grid_template_areas": null,
            "grid_template_columns": null,
            "grid_template_rows": null,
            "height": null,
            "justify_content": null,
            "justify_items": null,
            "left": null,
            "margin": null,
            "max_height": null,
            "max_width": null,
            "min_height": null,
            "min_width": null,
            "object_fit": null,
            "object_position": null,
            "order": null,
            "overflow": null,
            "overflow_x": null,
            "overflow_y": null,
            "padding": null,
            "right": null,
            "top": null,
            "visibility": null,
            "width": null
          }
        },
        "8f56ca6985fb4e5bbb5091d560576571": {
          "model_module": "@jupyter-widgets/controls",
          "model_module_version": "1.5.0",
          "model_name": "FloatProgressModel",
          "state": {
            "_dom_classes": [],
            "_model_module": "@jupyter-widgets/controls",
            "_model_module_version": "1.5.0",
            "_model_name": "FloatProgressModel",
            "_view_count": null,
            "_view_module": "@jupyter-widgets/controls",
            "_view_module_version": "1.5.0",
            "_view_name": "ProgressView",
            "bar_style": "success",
            "description": "",
            "description_tooltip": null,
            "layout": "IPY_MODEL_407a2b6084224cfeb3ccf90e38503599",
            "max": 3,
            "min": 0,
            "orientation": "horizontal",
            "style": "IPY_MODEL_25b0ae39be3a4b74b3c8facfa71acda6",
            "value": 3
          }
        },
        "909e3920a08b4755b7a02c40110c73f3": {
          "model_module": "@jupyter-widgets/controls",
          "model_module_version": "1.5.0",
          "model_name": "FloatProgressModel",
          "state": {
            "_dom_classes": [],
            "_model_module": "@jupyter-widgets/controls",
            "_model_module_version": "1.5.0",
            "_model_name": "FloatProgressModel",
            "_view_count": null,
            "_view_module": "@jupyter-widgets/controls",
            "_view_module_version": "1.5.0",
            "_view_name": "ProgressView",
            "bar_style": "success",
            "description": "",
            "description_tooltip": null,
            "layout": "IPY_MODEL_cccff413258641dfbf1e0643c3b5bbcc",
            "max": 1000,
            "min": 0,
            "orientation": "horizontal",
            "style": "IPY_MODEL_cef03d0611ce4f499fed4cb2872f4946",
            "value": 1000
          }
        },
        "942e4f21fc18471f8f726774be8b6635": {
          "model_module": "@jupyter-widgets/base",
          "model_module_version": "1.2.0",
          "model_name": "LayoutModel",
          "state": {
            "_model_module": "@jupyter-widgets/base",
            "_model_module_version": "1.2.0",
            "_model_name": "LayoutModel",
            "_view_count": null,
            "_view_module": "@jupyter-widgets/base",
            "_view_module_version": "1.2.0",
            "_view_name": "LayoutView",
            "align_content": null,
            "align_items": null,
            "align_self": null,
            "border": null,
            "bottom": null,
            "display": null,
            "flex": null,
            "flex_flow": null,
            "grid_area": null,
            "grid_auto_columns": null,
            "grid_auto_flow": null,
            "grid_auto_rows": null,
            "grid_column": null,
            "grid_gap": null,
            "grid_row": null,
            "grid_template_areas": null,
            "grid_template_columns": null,
            "grid_template_rows": null,
            "height": null,
            "justify_content": null,
            "justify_items": null,
            "left": null,
            "margin": null,
            "max_height": null,
            "max_width": null,
            "min_height": null,
            "min_width": null,
            "object_fit": null,
            "object_position": null,
            "order": null,
            "overflow": null,
            "overflow_x": null,
            "overflow_y": null,
            "padding": null,
            "right": null,
            "top": null,
            "visibility": null,
            "width": null
          }
        },
        "99b5dcc97be447429a85f3987119db20": {
          "model_module": "@jupyter-widgets/controls",
          "model_module_version": "1.5.0",
          "model_name": "HTMLModel",
          "state": {
            "_dom_classes": [],
            "_model_module": "@jupyter-widgets/controls",
            "_model_module_version": "1.5.0",
            "_model_name": "HTMLModel",
            "_view_count": null,
            "_view_module": "@jupyter-widgets/controls",
            "_view_module_version": "1.5.0",
            "_view_name": "HTMLView",
            "description": "",
            "description_tooltip": null,
            "layout": "IPY_MODEL_1400b70b01374129a533a397eec847ea",
            "placeholder": "​",
            "style": "IPY_MODEL_e3bb7c286b574d8da8e8d826c3545711",
            "value": " 200/200 [00:00&lt;00:00, 1265.28 examples/s]"
          }
        },
        "9b8d67bacd794cfab705079609968ee4": {
          "model_module": "@jupyter-widgets/base",
          "model_module_version": "1.2.0",
          "model_name": "LayoutModel",
          "state": {
            "_model_module": "@jupyter-widgets/base",
            "_model_module_version": "1.2.0",
            "_model_name": "LayoutModel",
            "_view_count": null,
            "_view_module": "@jupyter-widgets/base",
            "_view_module_version": "1.2.0",
            "_view_name": "LayoutView",
            "align_content": null,
            "align_items": null,
            "align_self": null,
            "border": null,
            "bottom": null,
            "display": null,
            "flex": null,
            "flex_flow": null,
            "grid_area": null,
            "grid_auto_columns": null,
            "grid_auto_flow": null,
            "grid_auto_rows": null,
            "grid_column": null,
            "grid_gap": null,
            "grid_row": null,
            "grid_template_areas": null,
            "grid_template_columns": null,
            "grid_template_rows": null,
            "height": null,
            "justify_content": null,
            "justify_items": null,
            "left": null,
            "margin": null,
            "max_height": null,
            "max_width": null,
            "min_height": null,
            "min_width": null,
            "object_fit": null,
            "object_position": null,
            "order": null,
            "overflow": null,
            "overflow_x": null,
            "overflow_y": null,
            "padding": null,
            "right": null,
            "top": null,
            "visibility": null,
            "width": null
          }
        },
        "a35cf5128ab54b998ba22eb4a2666077": {
          "model_module": "@jupyter-widgets/controls",
          "model_module_version": "1.5.0",
          "model_name": "DescriptionStyleModel",
          "state": {
            "_model_module": "@jupyter-widgets/controls",
            "_model_module_version": "1.5.0",
            "_model_name": "DescriptionStyleModel",
            "_view_count": null,
            "_view_module": "@jupyter-widgets/base",
            "_view_module_version": "1.2.0",
            "_view_name": "StyleView",
            "description_width": ""
          }
        },
        "adab870013774bcd92fbb7be51f681b2": {
          "model_module": "@jupyter-widgets/controls",
          "model_module_version": "1.5.0",
          "model_name": "FloatProgressModel",
          "state": {
            "_dom_classes": [],
            "_model_module": "@jupyter-widgets/controls",
            "_model_module_version": "1.5.0",
            "_model_name": "FloatProgressModel",
            "_view_count": null,
            "_view_module": "@jupyter-widgets/controls",
            "_view_module_version": "1.5.0",
            "_view_name": "ProgressView",
            "bar_style": "success",
            "description": "",
            "description_tooltip": null,
            "layout": "IPY_MODEL_7ee732c23b5544ff9ce9e2ab49a2c7d1",
            "max": 1000,
            "min": 0,
            "orientation": "horizontal",
            "style": "IPY_MODEL_6b00f7cff05449d8b240b5dfb49bbaea",
            "value": 1000
          }
        },
        "bd42507500664a10ae5509fc4deefa8e": {
          "model_module": "@jupyter-widgets/controls",
          "model_module_version": "1.5.0",
          "model_name": "HBoxModel",
          "state": {
            "_dom_classes": [],
            "_model_module": "@jupyter-widgets/controls",
            "_model_module_version": "1.5.0",
            "_model_name": "HBoxModel",
            "_view_count": null,
            "_view_module": "@jupyter-widgets/controls",
            "_view_module_version": "1.5.0",
            "_view_name": "HBoxView",
            "box_style": "",
            "children": [
              "IPY_MODEL_d04c1560786a424681bfcecd5a2d6cfc",
              "IPY_MODEL_909e3920a08b4755b7a02c40110c73f3",
              "IPY_MODEL_2221d6b90c484da2bae69c032f2223b8"
            ],
            "layout": "IPY_MODEL_2c23247d25a34e79ab6b1759a932aa15"
          }
        },
        "c5017051f35c453e82a9416c20fd6473": {
          "model_module": "@jupyter-widgets/controls",
          "model_module_version": "1.5.0",
          "model_name": "ProgressStyleModel",
          "state": {
            "_model_module": "@jupyter-widgets/controls",
            "_model_module_version": "1.5.0",
            "_model_name": "ProgressStyleModel",
            "_view_count": null,
            "_view_module": "@jupyter-widgets/base",
            "_view_module_version": "1.2.0",
            "_view_name": "StyleView",
            "bar_color": null,
            "description_width": ""
          }
        },
        "caf364cc4f9c44208a45c681c39c559d": {
          "model_module": "@jupyter-widgets/controls",
          "model_module_version": "1.5.0",
          "model_name": "HTMLModel",
          "state": {
            "_dom_classes": [],
            "_model_module": "@jupyter-widgets/controls",
            "_model_module_version": "1.5.0",
            "_model_name": "HTMLModel",
            "_view_count": null,
            "_view_module": "@jupyter-widgets/controls",
            "_view_module_version": "1.5.0",
            "_view_name": "HTMLView",
            "description": "",
            "description_tooltip": null,
            "layout": "IPY_MODEL_4f7058a1ab10422fbf33ff6904707c99",
            "placeholder": "​",
            "style": "IPY_MODEL_7758273f26494a74a45521b1f0cc44ee",
            "value": " 200/200 [00:00&lt;00:00, 9192.89 examples/s]"
          }
        },
        "cccff413258641dfbf1e0643c3b5bbcc": {
          "model_module": "@jupyter-widgets/base",
          "model_module_version": "1.2.0",
          "model_name": "LayoutModel",
          "state": {
            "_model_module": "@jupyter-widgets/base",
            "_model_module_version": "1.2.0",
            "_model_name": "LayoutModel",
            "_view_count": null,
            "_view_module": "@jupyter-widgets/base",
            "_view_module_version": "1.2.0",
            "_view_name": "LayoutView",
            "align_content": null,
            "align_items": null,
            "align_self": null,
            "border": null,
            "bottom": null,
            "display": null,
            "flex": null,
            "flex_flow": null,
            "grid_area": null,
            "grid_auto_columns": null,
            "grid_auto_flow": null,
            "grid_auto_rows": null,
            "grid_column": null,
            "grid_gap": null,
            "grid_row": null,
            "grid_template_areas": null,
            "grid_template_columns": null,
            "grid_template_rows": null,
            "height": null,
            "justify_content": null,
            "justify_items": null,
            "left": null,
            "margin": null,
            "max_height": null,
            "max_width": null,
            "min_height": null,
            "min_width": null,
            "object_fit": null,
            "object_position": null,
            "order": null,
            "overflow": null,
            "overflow_x": null,
            "overflow_y": null,
            "padding": null,
            "right": null,
            "top": null,
            "visibility": null,
            "width": null
          }
        },
        "ce318e9e9f444be7990458ff396823f3": {
          "model_module": "@jupyter-widgets/base",
          "model_module_version": "1.2.0",
          "model_name": "LayoutModel",
          "state": {
            "_model_module": "@jupyter-widgets/base",
            "_model_module_version": "1.2.0",
            "_model_name": "LayoutModel",
            "_view_count": null,
            "_view_module": "@jupyter-widgets/base",
            "_view_module_version": "1.2.0",
            "_view_name": "LayoutView",
            "align_content": null,
            "align_items": null,
            "align_self": null,
            "border": null,
            "bottom": null,
            "display": null,
            "flex": null,
            "flex_flow": null,
            "grid_area": null,
            "grid_auto_columns": null,
            "grid_auto_flow": null,
            "grid_auto_rows": null,
            "grid_column": null,
            "grid_gap": null,
            "grid_row": null,
            "grid_template_areas": null,
            "grid_template_columns": null,
            "grid_template_rows": null,
            "height": null,
            "justify_content": null,
            "justify_items": null,
            "left": null,
            "margin": null,
            "max_height": null,
            "max_width": null,
            "min_height": null,
            "min_width": null,
            "object_fit": null,
            "object_position": null,
            "order": null,
            "overflow": null,
            "overflow_x": null,
            "overflow_y": null,
            "padding": null,
            "right": null,
            "top": null,
            "visibility": null,
            "width": null
          }
        },
        "cef03d0611ce4f499fed4cb2872f4946": {
          "model_module": "@jupyter-widgets/controls",
          "model_module_version": "1.5.0",
          "model_name": "ProgressStyleModel",
          "state": {
            "_model_module": "@jupyter-widgets/controls",
            "_model_module_version": "1.5.0",
            "_model_name": "ProgressStyleModel",
            "_view_count": null,
            "_view_module": "@jupyter-widgets/base",
            "_view_module_version": "1.2.0",
            "_view_name": "StyleView",
            "bar_color": null,
            "description_width": ""
          }
        },
        "d04c1560786a424681bfcecd5a2d6cfc": {
          "model_module": "@jupyter-widgets/controls",
          "model_module_version": "1.5.0",
          "model_name": "HTMLModel",
          "state": {
            "_dom_classes": [],
            "_model_module": "@jupyter-widgets/controls",
            "_model_module_version": "1.5.0",
            "_model_name": "HTMLModel",
            "_view_count": null,
            "_view_module": "@jupyter-widgets/controls",
            "_view_module_version": "1.5.0",
            "_view_name": "HTMLView",
            "description": "",
            "description_tooltip": null,
            "layout": "IPY_MODEL_e90bc07fdd5245f3a3dcb21b971b41b2",
            "placeholder": "​",
            "style": "IPY_MODEL_32abd8d24f344d1f9d31b13a04a713fd",
            "value": "Truncating train dataset: 100%"
          }
        },
        "d323cc9a95ae4a618bd3751bf611e458": {
          "model_module": "@jupyter-widgets/controls",
          "model_module_version": "1.5.0",
          "model_name": "HTMLModel",
          "state": {
            "_dom_classes": [],
            "_model_module": "@jupyter-widgets/controls",
            "_model_module_version": "1.5.0",
            "_model_name": "HTMLModel",
            "_view_count": null,
            "_view_module": "@jupyter-widgets/controls",
            "_view_module_version": "1.5.0",
            "_view_name": "HTMLView",
            "description": "",
            "description_tooltip": null,
            "layout": "IPY_MODEL_d81eb442f64b47478ec77b8071932b9b",
            "placeholder": "​",
            "style": "IPY_MODEL_02e9af8330294530bc8276dfad75944e",
            "value": " 1000/1000 [00:00&lt;00:00, 1687.28 examples/s]"
          }
        },
        "d3c91db3a3894654ad77a36c38cff542": {
          "model_module": "@jupyter-widgets/base",
          "model_module_version": "1.2.0",
          "model_name": "LayoutModel",
          "state": {
            "_model_module": "@jupyter-widgets/base",
            "_model_module_version": "1.2.0",
            "_model_name": "LayoutModel",
            "_view_count": null,
            "_view_module": "@jupyter-widgets/base",
            "_view_module_version": "1.2.0",
            "_view_name": "LayoutView",
            "align_content": null,
            "align_items": null,
            "align_self": null,
            "border": null,
            "bottom": null,
            "display": null,
            "flex": null,
            "flex_flow": null,
            "grid_area": null,
            "grid_auto_columns": null,
            "grid_auto_flow": null,
            "grid_auto_rows": null,
            "grid_column": null,
            "grid_gap": null,
            "grid_row": null,
            "grid_template_areas": null,
            "grid_template_columns": null,
            "grid_template_rows": null,
            "height": null,
            "justify_content": null,
            "justify_items": null,
            "left": null,
            "margin": null,
            "max_height": null,
            "max_width": null,
            "min_height": null,
            "min_width": null,
            "object_fit": null,
            "object_position": null,
            "order": null,
            "overflow": null,
            "overflow_x": null,
            "overflow_y": null,
            "padding": null,
            "right": null,
            "top": null,
            "visibility": null,
            "width": null
          }
        },
        "d480648343c2433f9ad31085a387b27a": {
          "model_module": "@jupyter-widgets/controls",
          "model_module_version": "1.5.0",
          "model_name": "DescriptionStyleModel",
          "state": {
            "_model_module": "@jupyter-widgets/controls",
            "_model_module_version": "1.5.0",
            "_model_name": "DescriptionStyleModel",
            "_view_count": null,
            "_view_module": "@jupyter-widgets/base",
            "_view_module_version": "1.2.0",
            "_view_name": "StyleView",
            "description_width": ""
          }
        },
        "d81eb442f64b47478ec77b8071932b9b": {
          "model_module": "@jupyter-widgets/base",
          "model_module_version": "1.2.0",
          "model_name": "LayoutModel",
          "state": {
            "_model_module": "@jupyter-widgets/base",
            "_model_module_version": "1.2.0",
            "_model_name": "LayoutModel",
            "_view_count": null,
            "_view_module": "@jupyter-widgets/base",
            "_view_module_version": "1.2.0",
            "_view_name": "LayoutView",
            "align_content": null,
            "align_items": null,
            "align_self": null,
            "border": null,
            "bottom": null,
            "display": null,
            "flex": null,
            "flex_flow": null,
            "grid_area": null,
            "grid_auto_columns": null,
            "grid_auto_flow": null,
            "grid_auto_rows": null,
            "grid_column": null,
            "grid_gap": null,
            "grid_row": null,
            "grid_template_areas": null,
            "grid_template_columns": null,
            "grid_template_rows": null,
            "height": null,
            "justify_content": null,
            "justify_items": null,
            "left": null,
            "margin": null,
            "max_height": null,
            "max_width": null,
            "min_height": null,
            "min_width": null,
            "object_fit": null,
            "object_position": null,
            "order": null,
            "overflow": null,
            "overflow_x": null,
            "overflow_y": null,
            "padding": null,
            "right": null,
            "top": null,
            "visibility": null,
            "width": null
          }
        },
        "e3bb7c286b574d8da8e8d826c3545711": {
          "model_module": "@jupyter-widgets/controls",
          "model_module_version": "1.5.0",
          "model_name": "DescriptionStyleModel",
          "state": {
            "_model_module": "@jupyter-widgets/controls",
            "_model_module_version": "1.5.0",
            "_model_name": "DescriptionStyleModel",
            "_view_count": null,
            "_view_module": "@jupyter-widgets/base",
            "_view_module_version": "1.2.0",
            "_view_name": "StyleView",
            "description_width": ""
          }
        },
        "e90bc07fdd5245f3a3dcb21b971b41b2": {
          "model_module": "@jupyter-widgets/base",
          "model_module_version": "1.2.0",
          "model_name": "LayoutModel",
          "state": {
            "_model_module": "@jupyter-widgets/base",
            "_model_module_version": "1.2.0",
            "_model_name": "LayoutModel",
            "_view_count": null,
            "_view_module": "@jupyter-widgets/base",
            "_view_module_version": "1.2.0",
            "_view_name": "LayoutView",
            "align_content": null,
            "align_items": null,
            "align_self": null,
            "border": null,
            "bottom": null,
            "display": null,
            "flex": null,
            "flex_flow": null,
            "grid_area": null,
            "grid_auto_columns": null,
            "grid_auto_flow": null,
            "grid_auto_rows": null,
            "grid_column": null,
            "grid_gap": null,
            "grid_row": null,
            "grid_template_areas": null,
            "grid_template_columns": null,
            "grid_template_rows": null,
            "height": null,
            "justify_content": null,
            "justify_items": null,
            "left": null,
            "margin": null,
            "max_height": null,
            "max_width": null,
            "min_height": null,
            "min_width": null,
            "object_fit": null,
            "object_position": null,
            "order": null,
            "overflow": null,
            "overflow_x": null,
            "overflow_y": null,
            "padding": null,
            "right": null,
            "top": null,
            "visibility": null,
            "width": null
          }
        },
        "e9821ef6528a49e2a44d6dab54083860": {
          "model_module": "@jupyter-widgets/base",
          "model_module_version": "1.2.0",
          "model_name": "LayoutModel",
          "state": {
            "_model_module": "@jupyter-widgets/base",
            "_model_module_version": "1.2.0",
            "_model_name": "LayoutModel",
            "_view_count": null,
            "_view_module": "@jupyter-widgets/base",
            "_view_module_version": "1.2.0",
            "_view_name": "LayoutView",
            "align_content": null,
            "align_items": null,
            "align_self": null,
            "border": null,
            "bottom": null,
            "display": null,
            "flex": null,
            "flex_flow": null,
            "grid_area": null,
            "grid_auto_columns": null,
            "grid_auto_flow": null,
            "grid_auto_rows": null,
            "grid_column": null,
            "grid_gap": null,
            "grid_row": null,
            "grid_template_areas": null,
            "grid_template_columns": null,
            "grid_template_rows": null,
            "height": null,
            "justify_content": null,
            "justify_items": null,
            "left": null,
            "margin": null,
            "max_height": null,
            "max_width": null,
            "min_height": null,
            "min_width": null,
            "object_fit": null,
            "object_position": null,
            "order": null,
            "overflow": null,
            "overflow_x": null,
            "overflow_y": null,
            "padding": null,
            "right": null,
            "top": null,
            "visibility": null,
            "width": null
          }
        },
        "f936289564c3424c8ffe47b74265e498": {
          "model_module": "@jupyter-widgets/controls",
          "model_module_version": "1.5.0",
          "model_name": "DescriptionStyleModel",
          "state": {
            "_model_module": "@jupyter-widgets/controls",
            "_model_module_version": "1.5.0",
            "_model_name": "DescriptionStyleModel",
            "_view_count": null,
            "_view_module": "@jupyter-widgets/base",
            "_view_module_version": "1.2.0",
            "_view_name": "StyleView",
            "description_width": ""
          }
        },
        "fb0ba0280a284d1fa71e177b6a118510": {
          "model_module": "@jupyter-widgets/base",
          "model_module_version": "1.2.0",
          "model_name": "LayoutModel",
          "state": {
            "_model_module": "@jupyter-widgets/base",
            "_model_module_version": "1.2.0",
            "_model_name": "LayoutModel",
            "_view_count": null,
            "_view_module": "@jupyter-widgets/base",
            "_view_module_version": "1.2.0",
            "_view_name": "LayoutView",
            "align_content": null,
            "align_items": null,
            "align_self": null,
            "border": null,
            "bottom": null,
            "display": null,
            "flex": null,
            "flex_flow": null,
            "grid_area": null,
            "grid_auto_columns": null,
            "grid_auto_flow": null,
            "grid_auto_rows": null,
            "grid_column": null,
            "grid_gap": null,
            "grid_row": null,
            "grid_template_areas": null,
            "grid_template_columns": null,
            "grid_template_rows": null,
            "height": null,
            "justify_content": null,
            "justify_items": null,
            "left": null,
            "margin": null,
            "max_height": null,
            "max_width": null,
            "min_height": null,
            "min_width": null,
            "object_fit": null,
            "object_position": null,
            "order": null,
            "overflow": null,
            "overflow_x": null,
            "overflow_y": null,
            "padding": null,
            "right": null,
            "top": null,
            "visibility": null,
            "width": null
          }
        }
      }
    }
  },
  "nbformat": 4,
  "nbformat_minor": 0
}